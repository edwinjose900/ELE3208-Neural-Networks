{
 "cells": [
  {
   "cell_type": "markdown",
   "metadata": {},
   "source": [
    "### perceptron training"
   ]
  },
  {
   "cell_type": "code",
   "execution_count": 1,
   "metadata": {},
   "outputs": [],
   "source": [
    "import numpy as np"
   ]
  },
  {
   "cell_type": "code",
   "execution_count": 81,
   "metadata": {},
   "outputs": [
    {
     "data": {
      "text/plain": [
       "array([[0.3292245 ],\n",
       "       [0.44631844],\n",
       "       [0.8096449 ]])"
      ]
     },
     "execution_count": 81,
     "metadata": {},
     "output_type": "execute_result"
    }
   ],
   "source": [
    "w=np.random.rand(3)#initializing w with some random values\n",
    "w=np.array([[w[0],w[1],w[2]]])\n",
    "w=np.transpose(w)\n",
    "w.shape\n",
    "w"
   ]
  },
  {
   "cell_type": "code",
   "execution_count": 67,
   "metadata": {},
   "outputs": [],
   "source": [
    "x=np.array([[-1,0,0],[-1,0,-1],[-1,-1,0],[1,1,1]])\n",
    "#x=np.transpose(x)"
   ]
  },
  {
   "cell_type": "code",
   "execution_count": 82,
   "metadata": {},
   "outputs": [],
   "source": [
    "pdt=np.dot(x,w)"
   ]
  },
  {
   "cell_type": "code",
   "execution_count": 83,
   "metadata": {},
   "outputs": [
    {
     "data": {
      "text/plain": [
       "array([[-0.3292245 ],\n",
       "       [-1.13886941],\n",
       "       [-0.77554295],\n",
       "       [ 1.58518785]])"
      ]
     },
     "execution_count": 83,
     "metadata": {},
     "output_type": "execute_result"
    }
   ],
   "source": [
    "pdt"
   ]
  },
  {
   "cell_type": "code",
   "execution_count": 110,
   "metadata": {},
   "outputs": [],
   "source": [
    "def lessthan(arr,var):\n",
    "    for i in arr:\n",
    "        if i>=0:\n",
    "            return False;\n",
    "    return True;\n",
    "def grtrthan(arr,var):\n",
    "    for i in arr:\n",
    "        if i<=0:\n",
    "            return False;\n",
    "    return True;\n",
    "def lessthaneq(arr,var):\n",
    "    for i in arr:\n",
    "        if i>0:\n",
    "            return False;\n",
    "    return True;\n",
    "def grtrthaneq(arr,var):\n",
    "    for i in arr:\n",
    "        if i<0:\n",
    "            return False;\n",
    "    return True;\n",
    "\n"
   ]
  },
  {
   "cell_type": "code",
   "execution_count": 112,
   "metadata": {},
   "outputs": [
    {
     "data": {
      "text/plain": [
       "True"
      ]
     },
     "execution_count": 112,
     "metadata": {},
     "output_type": "execute_result"
    }
   ],
   "source": [
    "while(lessthan(arr,0)):\n",
    "    if lessthaneq(arr,0):\n",
    "        h=w\n",
    "        w=w"
   ]
  },
  {
   "cell_type": "code",
   "execution_count": 119,
   "metadata": {},
   "outputs": [
    {
     "name": "stdout",
     "output_type": "stream",
     "text": [
      "0\n",
      "1\n"
     ]
    }
   ],
   "source": [
    "for i in range(len(w)-1):\n",
    "    print(i)"
   ]
  },
  {
   "cell_type": "code",
   "execution_count": 118,
   "metadata": {},
   "outputs": [
    {
     "data": {
      "text/plain": [
       "3"
      ]
     },
     "execution_count": 118,
     "metadata": {},
     "output_type": "execute_result"
    }
   ],
   "source": [
    "len(w)"
   ]
  },
  {
   "cell_type": "code",
   "execution_count": null,
   "metadata": {},
   "outputs": [],
   "source": []
  }
 ],
 "metadata": {
  "kernelspec": {
   "display_name": "Python 3",
   "language": "python",
   "name": "python3"
  },
  "language_info": {
   "codemirror_mode": {
    "name": "ipython",
    "version": 3
   },
   "file_extension": ".py",
   "mimetype": "text/x-python",
   "name": "python",
   "nbconvert_exporter": "python",
   "pygments_lexer": "ipython3",
   "version": "3.7.0"
  }
 },
 "nbformat": 4,
 "nbformat_minor": 2
}
